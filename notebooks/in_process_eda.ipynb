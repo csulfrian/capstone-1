{
 "cells": [
  {
   "cell_type": "markdown",
   "metadata": {},
   "source": [
    "# Capstone I Preliminary EDA\n",
    "7/15/2020"
   ]
  },
  {
   "cell_type": "code",
   "execution_count": 1,
   "metadata": {},
   "outputs": [],
   "source": [
    "import pandas as pd\n",
    "import numpy as np\n",
    "from scipy import stats\n",
    "import matplotlib.pyplot as plt\n",
    "import seaborn as sns\n",
    "\n",
    "plt.style.use('bmh')"
   ]
  },
  {
   "cell_type": "code",
   "execution_count": 2,
   "metadata": {},
   "outputs": [],
   "source": [
    "df = pd.read_csv('../data/processed/EdStatsAggregated.csv')"
   ]
  },
  {
   "cell_type": "code",
   "execution_count": 3,
   "metadata": {},
   "outputs": [
    {
     "data": {
      "text/html": [
       "<div>\n",
       "<style scoped>\n",
       "    .dataframe tbody tr th:only-of-type {\n",
       "        vertical-align: middle;\n",
       "    }\n",
       "\n",
       "    .dataframe tbody tr th {\n",
       "        vertical-align: top;\n",
       "    }\n",
       "\n",
       "    .dataframe thead th {\n",
       "        text-align: right;\n",
       "    }\n",
       "</style>\n",
       "<table border=\"1\" class=\"dataframe\">\n",
       "  <thead>\n",
       "    <tr style=\"text-align: right;\">\n",
       "      <th></th>\n",
       "      <th>Country Name</th>\n",
       "      <th>Country Code</th>\n",
       "      <th>Indicator Name</th>\n",
       "      <th>Indicator Code</th>\n",
       "      <th>1978</th>\n",
       "      <th>1979</th>\n",
       "      <th>1980</th>\n",
       "      <th>1981</th>\n",
       "      <th>1982</th>\n",
       "      <th>1983</th>\n",
       "      <th>...</th>\n",
       "      <th>2006</th>\n",
       "      <th>2007</th>\n",
       "      <th>2008</th>\n",
       "      <th>2009</th>\n",
       "      <th>2010</th>\n",
       "      <th>2011</th>\n",
       "      <th>2012</th>\n",
       "      <th>2013</th>\n",
       "      <th>2014</th>\n",
       "      <th>2015</th>\n",
       "    </tr>\n",
       "  </thead>\n",
       "  <tbody>\n",
       "    <tr>\n",
       "      <th>0</th>\n",
       "      <td>United States</td>\n",
       "      <td>USA</td>\n",
       "      <td>Expenditure on primary as % of government expe...</td>\n",
       "      <td>SE.XPD.PRIM.ZS</td>\n",
       "      <td>NaN</td>\n",
       "      <td>NaN</td>\n",
       "      <td>NaN</td>\n",
       "      <td>NaN</td>\n",
       "      <td>NaN</td>\n",
       "      <td>NaN</td>\n",
       "      <td>...</td>\n",
       "      <td>31.982700</td>\n",
       "      <td>33.147579</td>\n",
       "      <td>33.628712</td>\n",
       "      <td>33.561531</td>\n",
       "      <td>32.421581</td>\n",
       "      <td>31.586950</td>\n",
       "      <td>30.963221</td>\n",
       "      <td>31.109060</td>\n",
       "      <td>28.698191</td>\n",
       "      <td>NaN</td>\n",
       "    </tr>\n",
       "    <tr>\n",
       "      <th>1</th>\n",
       "      <td>United States</td>\n",
       "      <td>USA</td>\n",
       "      <td>GDP per capita (current US$)</td>\n",
       "      <td>NY.GDP.PCAP.CD</td>\n",
       "      <td>10587.285756</td>\n",
       "      <td>11695.55442</td>\n",
       "      <td>12597.66751</td>\n",
       "      <td>13993.166744</td>\n",
       "      <td>14438.976276</td>\n",
       "      <td>15561.426396</td>\n",
       "      <td>...</td>\n",
       "      <td>46437.067117</td>\n",
       "      <td>48061.537661</td>\n",
       "      <td>48401.427340</td>\n",
       "      <td>47001.555350</td>\n",
       "      <td>48373.878816</td>\n",
       "      <td>49790.665478</td>\n",
       "      <td>51450.122295</td>\n",
       "      <td>52787.026949</td>\n",
       "      <td>54598.550689</td>\n",
       "      <td>56469.008969</td>\n",
       "    </tr>\n",
       "  </tbody>\n",
       "</table>\n",
       "<p>2 rows × 42 columns</p>\n",
       "</div>"
      ],
      "text/plain": [
       "    Country Name Country Code  \\\n",
       "0  United States          USA   \n",
       "1  United States          USA   \n",
       "\n",
       "                                      Indicator Name  Indicator Code  \\\n",
       "0  Expenditure on primary as % of government expe...  SE.XPD.PRIM.ZS   \n",
       "1                       GDP per capita (current US$)  NY.GDP.PCAP.CD   \n",
       "\n",
       "           1978         1979         1980          1981          1982  \\\n",
       "0           NaN          NaN          NaN           NaN           NaN   \n",
       "1  10587.285756  11695.55442  12597.66751  13993.166744  14438.976276   \n",
       "\n",
       "           1983  ...          2006          2007          2008          2009  \\\n",
       "0           NaN  ...     31.982700     33.147579     33.628712     33.561531   \n",
       "1  15561.426396  ...  46437.067117  48061.537661  48401.427340  47001.555350   \n",
       "\n",
       "           2010          2011          2012          2013          2014  \\\n",
       "0     32.421581     31.586950     30.963221     31.109060     28.698191   \n",
       "1  48373.878816  49790.665478  51450.122295  52787.026949  54598.550689   \n",
       "\n",
       "           2015  \n",
       "0           NaN  \n",
       "1  56469.008969  \n",
       "\n",
       "[2 rows x 42 columns]"
      ]
     },
     "execution_count": 3,
     "metadata": {},
     "output_type": "execute_result"
    }
   ],
   "source": [
    "df.head(2)"
   ]
  },
  {
   "cell_type": "code",
   "execution_count": 4,
   "metadata": {},
   "outputs": [],
   "source": [
    "# df.info()"
   ]
  },
  {
   "cell_type": "code",
   "execution_count": 5,
   "metadata": {},
   "outputs": [
    {
     "data": {
      "text/plain": [
       "(36, 42)"
      ]
     },
     "execution_count": 5,
     "metadata": {},
     "output_type": "execute_result"
    }
   ],
   "source": [
    "df.shape"
   ]
  },
  {
   "cell_type": "code",
   "execution_count": 6,
   "metadata": {},
   "outputs": [],
   "source": [
    "# df = df.dropna(axis=1)\n",
    "# df.shape"
   ]
  },
  {
   "cell_type": "code",
   "execution_count": 7,
   "metadata": {},
   "outputs": [
    {
     "ename": "KeyError",
     "evalue": "\"['Unnamed: 0'] not found in axis\"",
     "output_type": "error",
     "traceback": [
      "\u001b[0;31m---------------------------------------------------------------------------\u001b[0m",
      "\u001b[0;31mKeyError\u001b[0m                                  Traceback (most recent call last)",
      "\u001b[0;32m<ipython-input-7-493cd8a06761>\u001b[0m in \u001b[0;36m<module>\u001b[0;34m\u001b[0m\n\u001b[0;32m----> 1\u001b[0;31m \u001b[0mdf\u001b[0m \u001b[0;34m=\u001b[0m \u001b[0mdf\u001b[0m\u001b[0;34m.\u001b[0m\u001b[0mdrop\u001b[0m\u001b[0;34m(\u001b[0m\u001b[0;34m[\u001b[0m\u001b[0;34m'Unnamed: 0'\u001b[0m\u001b[0;34m,\u001b[0m \u001b[0;34m'Country Name'\u001b[0m\u001b[0;34m]\u001b[0m\u001b[0;34m,\u001b[0m \u001b[0maxis\u001b[0m\u001b[0;34m=\u001b[0m\u001b[0;36m1\u001b[0m\u001b[0;34m)\u001b[0m\u001b[0;34m\u001b[0m\u001b[0;34m\u001b[0m\u001b[0m\n\u001b[0m",
      "\u001b[0;32m/home/soultrain/anaconda3/lib/python3.7/site-packages/pandas/core/frame.py\u001b[0m in \u001b[0;36mdrop\u001b[0;34m(self, labels, axis, index, columns, level, inplace, errors)\u001b[0m\n\u001b[1;32m   3995\u001b[0m             \u001b[0mlevel\u001b[0m\u001b[0;34m=\u001b[0m\u001b[0mlevel\u001b[0m\u001b[0;34m,\u001b[0m\u001b[0;34m\u001b[0m\u001b[0;34m\u001b[0m\u001b[0m\n\u001b[1;32m   3996\u001b[0m             \u001b[0minplace\u001b[0m\u001b[0;34m=\u001b[0m\u001b[0minplace\u001b[0m\u001b[0;34m,\u001b[0m\u001b[0;34m\u001b[0m\u001b[0;34m\u001b[0m\u001b[0m\n\u001b[0;32m-> 3997\u001b[0;31m             \u001b[0merrors\u001b[0m\u001b[0;34m=\u001b[0m\u001b[0merrors\u001b[0m\u001b[0;34m,\u001b[0m\u001b[0;34m\u001b[0m\u001b[0;34m\u001b[0m\u001b[0m\n\u001b[0m\u001b[1;32m   3998\u001b[0m         )\n\u001b[1;32m   3999\u001b[0m \u001b[0;34m\u001b[0m\u001b[0m\n",
      "\u001b[0;32m/home/soultrain/anaconda3/lib/python3.7/site-packages/pandas/core/generic.py\u001b[0m in \u001b[0;36mdrop\u001b[0;34m(self, labels, axis, index, columns, level, inplace, errors)\u001b[0m\n\u001b[1;32m   3934\u001b[0m         \u001b[0;32mfor\u001b[0m \u001b[0maxis\u001b[0m\u001b[0;34m,\u001b[0m \u001b[0mlabels\u001b[0m \u001b[0;32min\u001b[0m \u001b[0maxes\u001b[0m\u001b[0;34m.\u001b[0m\u001b[0mitems\u001b[0m\u001b[0;34m(\u001b[0m\u001b[0;34m)\u001b[0m\u001b[0;34m:\u001b[0m\u001b[0;34m\u001b[0m\u001b[0;34m\u001b[0m\u001b[0m\n\u001b[1;32m   3935\u001b[0m             \u001b[0;32mif\u001b[0m \u001b[0mlabels\u001b[0m \u001b[0;32mis\u001b[0m \u001b[0;32mnot\u001b[0m \u001b[0;32mNone\u001b[0m\u001b[0;34m:\u001b[0m\u001b[0;34m\u001b[0m\u001b[0;34m\u001b[0m\u001b[0m\n\u001b[0;32m-> 3936\u001b[0;31m                 \u001b[0mobj\u001b[0m \u001b[0;34m=\u001b[0m \u001b[0mobj\u001b[0m\u001b[0;34m.\u001b[0m\u001b[0m_drop_axis\u001b[0m\u001b[0;34m(\u001b[0m\u001b[0mlabels\u001b[0m\u001b[0;34m,\u001b[0m \u001b[0maxis\u001b[0m\u001b[0;34m,\u001b[0m \u001b[0mlevel\u001b[0m\u001b[0;34m=\u001b[0m\u001b[0mlevel\u001b[0m\u001b[0;34m,\u001b[0m \u001b[0merrors\u001b[0m\u001b[0;34m=\u001b[0m\u001b[0merrors\u001b[0m\u001b[0;34m)\u001b[0m\u001b[0;34m\u001b[0m\u001b[0;34m\u001b[0m\u001b[0m\n\u001b[0m\u001b[1;32m   3937\u001b[0m \u001b[0;34m\u001b[0m\u001b[0m\n\u001b[1;32m   3938\u001b[0m         \u001b[0;32mif\u001b[0m \u001b[0minplace\u001b[0m\u001b[0;34m:\u001b[0m\u001b[0;34m\u001b[0m\u001b[0;34m\u001b[0m\u001b[0m\n",
      "\u001b[0;32m/home/soultrain/anaconda3/lib/python3.7/site-packages/pandas/core/generic.py\u001b[0m in \u001b[0;36m_drop_axis\u001b[0;34m(self, labels, axis, level, errors)\u001b[0m\n\u001b[1;32m   3968\u001b[0m                 \u001b[0mnew_axis\u001b[0m \u001b[0;34m=\u001b[0m \u001b[0maxis\u001b[0m\u001b[0;34m.\u001b[0m\u001b[0mdrop\u001b[0m\u001b[0;34m(\u001b[0m\u001b[0mlabels\u001b[0m\u001b[0;34m,\u001b[0m \u001b[0mlevel\u001b[0m\u001b[0;34m=\u001b[0m\u001b[0mlevel\u001b[0m\u001b[0;34m,\u001b[0m \u001b[0merrors\u001b[0m\u001b[0;34m=\u001b[0m\u001b[0merrors\u001b[0m\u001b[0;34m)\u001b[0m\u001b[0;34m\u001b[0m\u001b[0;34m\u001b[0m\u001b[0m\n\u001b[1;32m   3969\u001b[0m             \u001b[0;32melse\u001b[0m\u001b[0;34m:\u001b[0m\u001b[0;34m\u001b[0m\u001b[0;34m\u001b[0m\u001b[0m\n\u001b[0;32m-> 3970\u001b[0;31m                 \u001b[0mnew_axis\u001b[0m \u001b[0;34m=\u001b[0m \u001b[0maxis\u001b[0m\u001b[0;34m.\u001b[0m\u001b[0mdrop\u001b[0m\u001b[0;34m(\u001b[0m\u001b[0mlabels\u001b[0m\u001b[0;34m,\u001b[0m \u001b[0merrors\u001b[0m\u001b[0;34m=\u001b[0m\u001b[0merrors\u001b[0m\u001b[0;34m)\u001b[0m\u001b[0;34m\u001b[0m\u001b[0;34m\u001b[0m\u001b[0m\n\u001b[0m\u001b[1;32m   3971\u001b[0m             \u001b[0mresult\u001b[0m \u001b[0;34m=\u001b[0m \u001b[0mself\u001b[0m\u001b[0;34m.\u001b[0m\u001b[0mreindex\u001b[0m\u001b[0;34m(\u001b[0m\u001b[0;34m**\u001b[0m\u001b[0;34m{\u001b[0m\u001b[0maxis_name\u001b[0m\u001b[0;34m:\u001b[0m \u001b[0mnew_axis\u001b[0m\u001b[0;34m}\u001b[0m\u001b[0;34m)\u001b[0m\u001b[0;34m\u001b[0m\u001b[0;34m\u001b[0m\u001b[0m\n\u001b[1;32m   3972\u001b[0m \u001b[0;34m\u001b[0m\u001b[0m\n",
      "\u001b[0;32m/home/soultrain/anaconda3/lib/python3.7/site-packages/pandas/core/indexes/base.py\u001b[0m in \u001b[0;36mdrop\u001b[0;34m(self, labels, errors)\u001b[0m\n\u001b[1;32m   5016\u001b[0m         \u001b[0;32mif\u001b[0m \u001b[0mmask\u001b[0m\u001b[0;34m.\u001b[0m\u001b[0many\u001b[0m\u001b[0;34m(\u001b[0m\u001b[0;34m)\u001b[0m\u001b[0;34m:\u001b[0m\u001b[0;34m\u001b[0m\u001b[0;34m\u001b[0m\u001b[0m\n\u001b[1;32m   5017\u001b[0m             \u001b[0;32mif\u001b[0m \u001b[0merrors\u001b[0m \u001b[0;34m!=\u001b[0m \u001b[0;34m\"ignore\"\u001b[0m\u001b[0;34m:\u001b[0m\u001b[0;34m\u001b[0m\u001b[0;34m\u001b[0m\u001b[0m\n\u001b[0;32m-> 5018\u001b[0;31m                 \u001b[0;32mraise\u001b[0m \u001b[0mKeyError\u001b[0m\u001b[0;34m(\u001b[0m\u001b[0;34mf\"{labels[mask]} not found in axis\"\u001b[0m\u001b[0;34m)\u001b[0m\u001b[0;34m\u001b[0m\u001b[0;34m\u001b[0m\u001b[0m\n\u001b[0m\u001b[1;32m   5019\u001b[0m             \u001b[0mindexer\u001b[0m \u001b[0;34m=\u001b[0m \u001b[0mindexer\u001b[0m\u001b[0;34m[\u001b[0m\u001b[0;34m~\u001b[0m\u001b[0mmask\u001b[0m\u001b[0;34m]\u001b[0m\u001b[0;34m\u001b[0m\u001b[0;34m\u001b[0m\u001b[0m\n\u001b[1;32m   5020\u001b[0m         \u001b[0;32mreturn\u001b[0m \u001b[0mself\u001b[0m\u001b[0;34m.\u001b[0m\u001b[0mdelete\u001b[0m\u001b[0;34m(\u001b[0m\u001b[0mindexer\u001b[0m\u001b[0;34m)\u001b[0m\u001b[0;34m\u001b[0m\u001b[0;34m\u001b[0m\u001b[0m\n",
      "\u001b[0;31mKeyError\u001b[0m: \"['Unnamed: 0'] not found in axis\""
     ]
    }
   ],
   "source": [
    "df = df.drop(['Unnamed: 0', 'Country Name'], axis=1)"
   ]
  },
  {
   "cell_type": "code",
   "execution_count": 8,
   "metadata": {},
   "outputs": [
    {
     "data": {
      "text/html": [
       "<div>\n",
       "<style scoped>\n",
       "    .dataframe tbody tr th:only-of-type {\n",
       "        vertical-align: middle;\n",
       "    }\n",
       "\n",
       "    .dataframe tbody tr th {\n",
       "        vertical-align: top;\n",
       "    }\n",
       "\n",
       "    .dataframe thead th {\n",
       "        text-align: right;\n",
       "    }\n",
       "</style>\n",
       "<table border=\"1\" class=\"dataframe\">\n",
       "  <thead>\n",
       "    <tr style=\"text-align: right;\">\n",
       "      <th></th>\n",
       "      <th>Country Name</th>\n",
       "      <th>Country Code</th>\n",
       "      <th>Indicator Name</th>\n",
       "      <th>Indicator Code</th>\n",
       "      <th>1978</th>\n",
       "      <th>1979</th>\n",
       "      <th>1980</th>\n",
       "      <th>1981</th>\n",
       "      <th>1982</th>\n",
       "      <th>1983</th>\n",
       "      <th>...</th>\n",
       "      <th>2006</th>\n",
       "      <th>2007</th>\n",
       "      <th>2008</th>\n",
       "      <th>2009</th>\n",
       "      <th>2010</th>\n",
       "      <th>2011</th>\n",
       "      <th>2012</th>\n",
       "      <th>2013</th>\n",
       "      <th>2014</th>\n",
       "      <th>2015</th>\n",
       "    </tr>\n",
       "  </thead>\n",
       "  <tbody>\n",
       "    <tr>\n",
       "      <th>0</th>\n",
       "      <td>United States</td>\n",
       "      <td>USA</td>\n",
       "      <td>Expenditure on primary as % of government expe...</td>\n",
       "      <td>SE.XPD.PRIM.ZS</td>\n",
       "      <td>NaN</td>\n",
       "      <td>NaN</td>\n",
       "      <td>NaN</td>\n",
       "      <td>NaN</td>\n",
       "      <td>NaN</td>\n",
       "      <td>NaN</td>\n",
       "      <td>...</td>\n",
       "      <td>31.9827</td>\n",
       "      <td>33.147579</td>\n",
       "      <td>33.628712</td>\n",
       "      <td>33.561531</td>\n",
       "      <td>32.421581</td>\n",
       "      <td>31.58695</td>\n",
       "      <td>30.963221</td>\n",
       "      <td>31.10906</td>\n",
       "      <td>28.698191</td>\n",
       "      <td>NaN</td>\n",
       "    </tr>\n",
       "  </tbody>\n",
       "</table>\n",
       "<p>1 rows × 42 columns</p>\n",
       "</div>"
      ],
      "text/plain": [
       "    Country Name Country Code  \\\n",
       "0  United States          USA   \n",
       "\n",
       "                                      Indicator Name  Indicator Code  1978  \\\n",
       "0  Expenditure on primary as % of government expe...  SE.XPD.PRIM.ZS   NaN   \n",
       "\n",
       "   1979  1980  1981  1982  1983  ...     2006       2007       2008  \\\n",
       "0   NaN   NaN   NaN   NaN   NaN  ...  31.9827  33.147579  33.628712   \n",
       "\n",
       "        2009       2010      2011       2012      2013       2014  2015  \n",
       "0  33.561531  32.421581  31.58695  30.963221  31.10906  28.698191   NaN  \n",
       "\n",
       "[1 rows x 42 columns]"
      ]
     },
     "execution_count": 8,
     "metadata": {},
     "output_type": "execute_result"
    }
   ],
   "source": [
    "df.head(1)"
   ]
  },
  {
   "cell_type": "code",
   "execution_count": 9,
   "metadata": {},
   "outputs": [],
   "source": [
    "gdps = df[df['Indicator Code'] == 'NY.GDP.PCAP.CD']"
   ]
  },
  {
   "cell_type": "code",
   "execution_count": 10,
   "metadata": {},
   "outputs": [
    {
     "data": {
      "text/html": [
       "<div>\n",
       "<style scoped>\n",
       "    .dataframe tbody tr th:only-of-type {\n",
       "        vertical-align: middle;\n",
       "    }\n",
       "\n",
       "    .dataframe tbody tr th {\n",
       "        vertical-align: top;\n",
       "    }\n",
       "\n",
       "    .dataframe thead th {\n",
       "        text-align: right;\n",
       "    }\n",
       "</style>\n",
       "<table border=\"1\" class=\"dataframe\">\n",
       "  <thead>\n",
       "    <tr style=\"text-align: right;\">\n",
       "      <th></th>\n",
       "      <th>Country Name</th>\n",
       "      <th>Country Code</th>\n",
       "      <th>Indicator Name</th>\n",
       "      <th>Indicator Code</th>\n",
       "      <th>2006</th>\n",
       "      <th>2007</th>\n",
       "      <th>2008</th>\n",
       "      <th>2009</th>\n",
       "      <th>2010</th>\n",
       "      <th>2011</th>\n",
       "      <th>2012</th>\n",
       "      <th>2013</th>\n",
       "    </tr>\n",
       "  </thead>\n",
       "  <tbody>\n",
       "    <tr>\n",
       "      <th>0</th>\n",
       "      <td>United States</td>\n",
       "      <td>USA</td>\n",
       "      <td>Expenditure on primary as % of government expe...</td>\n",
       "      <td>SE.XPD.PRIM.ZS</td>\n",
       "      <td>31.98270</td>\n",
       "      <td>33.147579</td>\n",
       "      <td>33.628712</td>\n",
       "      <td>33.561531</td>\n",
       "      <td>32.421581</td>\n",
       "      <td>31.586950</td>\n",
       "      <td>30.963221</td>\n",
       "      <td>31.109060</td>\n",
       "    </tr>\n",
       "    <tr>\n",
       "      <th>6</th>\n",
       "      <td>Sweden</td>\n",
       "      <td>SWE</td>\n",
       "      <td>Expenditure on primary as % of government expe...</td>\n",
       "      <td>SE.XPD.PRIM.ZS</td>\n",
       "      <td>24.90185</td>\n",
       "      <td>25.046600</td>\n",
       "      <td>24.609659</td>\n",
       "      <td>24.074690</td>\n",
       "      <td>24.286600</td>\n",
       "      <td>24.259411</td>\n",
       "      <td>21.984011</td>\n",
       "      <td>22.379950</td>\n",
       "    </tr>\n",
       "    <tr>\n",
       "      <th>12</th>\n",
       "      <td>Brazil</td>\n",
       "      <td>BRA</td>\n",
       "      <td>Expenditure on primary as % of government expe...</td>\n",
       "      <td>SE.XPD.PRIM.ZS</td>\n",
       "      <td>32.02467</td>\n",
       "      <td>32.198582</td>\n",
       "      <td>31.919411</td>\n",
       "      <td>32.378811</td>\n",
       "      <td>31.325951</td>\n",
       "      <td>29.285561</td>\n",
       "      <td>28.894070</td>\n",
       "      <td>27.409750</td>\n",
       "    </tr>\n",
       "    <tr>\n",
       "      <th>18</th>\n",
       "      <td>Germany</td>\n",
       "      <td>DEU</td>\n",
       "      <td>Expenditure on primary as % of government expe...</td>\n",
       "      <td>SE.XPD.PRIM.ZS</td>\n",
       "      <td>14.73804</td>\n",
       "      <td>14.023630</td>\n",
       "      <td>13.497080</td>\n",
       "      <td>13.549030</td>\n",
       "      <td>13.482980</td>\n",
       "      <td>13.211040</td>\n",
       "      <td>12.810500</td>\n",
       "      <td>12.784330</td>\n",
       "    </tr>\n",
       "    <tr>\n",
       "      <th>24</th>\n",
       "      <td>Switzerland</td>\n",
       "      <td>CHE</td>\n",
       "      <td>Expenditure on primary as % of government expe...</td>\n",
       "      <td>SE.XPD.PRIM.ZS</td>\n",
       "      <td>29.23546</td>\n",
       "      <td>29.386419</td>\n",
       "      <td>25.301100</td>\n",
       "      <td>27.927629</td>\n",
       "      <td>27.969919</td>\n",
       "      <td>28.911150</td>\n",
       "      <td>29.332621</td>\n",
       "      <td>29.696461</td>\n",
       "    </tr>\n",
       "  </tbody>\n",
       "</table>\n",
       "</div>"
      ],
      "text/plain": [
       "     Country Name Country Code  \\\n",
       "0   United States          USA   \n",
       "6          Sweden          SWE   \n",
       "12         Brazil          BRA   \n",
       "18        Germany          DEU   \n",
       "24    Switzerland          CHE   \n",
       "\n",
       "                                       Indicator Name  Indicator Code  \\\n",
       "0   Expenditure on primary as % of government expe...  SE.XPD.PRIM.ZS   \n",
       "6   Expenditure on primary as % of government expe...  SE.XPD.PRIM.ZS   \n",
       "12  Expenditure on primary as % of government expe...  SE.XPD.PRIM.ZS   \n",
       "18  Expenditure on primary as % of government expe...  SE.XPD.PRIM.ZS   \n",
       "24  Expenditure on primary as % of government expe...  SE.XPD.PRIM.ZS   \n",
       "\n",
       "        2006       2007       2008       2009       2010       2011  \\\n",
       "0   31.98270  33.147579  33.628712  33.561531  32.421581  31.586950   \n",
       "6   24.90185  25.046600  24.609659  24.074690  24.286600  24.259411   \n",
       "12  32.02467  32.198582  31.919411  32.378811  31.325951  29.285561   \n",
       "18  14.73804  14.023630  13.497080  13.549030  13.482980  13.211040   \n",
       "24  29.23546  29.386419  25.301100  27.927629  27.969919  28.911150   \n",
       "\n",
       "         2012       2013  \n",
       "0   30.963221  31.109060  \n",
       "6   21.984011  22.379950  \n",
       "12  28.894070  27.409750  \n",
       "18  12.810500  12.784330  \n",
       "24  29.332621  29.696461  "
      ]
     },
     "execution_count": 10,
     "metadata": {},
     "output_type": "execute_result"
    }
   ],
   "source": [
    "primary_spend = df[df['Indicator Code'] == 'SE.XPD.PRIM.ZS']\n",
    "primary_spend = primary_spend.dropna(axis=1)\n",
    "primary_spend.head()"
   ]
  },
  {
   "cell_type": "code",
   "execution_count": 11,
   "metadata": {},
   "outputs": [],
   "source": [
    "gdps = gdps.drop(['Indicator Name', 'Indicator Code'], axis=1)"
   ]
  },
  {
   "cell_type": "code",
   "execution_count": 12,
   "metadata": {},
   "outputs": [
    {
     "data": {
      "text/html": [
       "<div>\n",
       "<style scoped>\n",
       "    .dataframe tbody tr th:only-of-type {\n",
       "        vertical-align: middle;\n",
       "    }\n",
       "\n",
       "    .dataframe tbody tr th {\n",
       "        vertical-align: top;\n",
       "    }\n",
       "\n",
       "    .dataframe thead th {\n",
       "        text-align: right;\n",
       "    }\n",
       "</style>\n",
       "<table border=\"1\" class=\"dataframe\">\n",
       "  <thead>\n",
       "    <tr style=\"text-align: right;\">\n",
       "      <th></th>\n",
       "      <th>Country Name</th>\n",
       "      <th>Country Code</th>\n",
       "      <th>1980</th>\n",
       "      <th>1981</th>\n",
       "      <th>1982</th>\n",
       "      <th>1983</th>\n",
       "      <th>1984</th>\n",
       "      <th>1985</th>\n",
       "      <th>1986</th>\n",
       "      <th>1987</th>\n",
       "      <th>...</th>\n",
       "      <th>2006</th>\n",
       "      <th>2007</th>\n",
       "      <th>2008</th>\n",
       "      <th>2009</th>\n",
       "      <th>2010</th>\n",
       "      <th>2011</th>\n",
       "      <th>2012</th>\n",
       "      <th>2013</th>\n",
       "      <th>2014</th>\n",
       "      <th>2015</th>\n",
       "    </tr>\n",
       "  </thead>\n",
       "  <tbody>\n",
       "    <tr>\n",
       "      <th>1</th>\n",
       "      <td>United States</td>\n",
       "      <td>USA</td>\n",
       "      <td>12597.667510</td>\n",
       "      <td>13993.166744</td>\n",
       "      <td>14438.976276</td>\n",
       "      <td>15561.426396</td>\n",
       "      <td>17134.286017</td>\n",
       "      <td>18269.422168</td>\n",
       "      <td>19115.052908</td>\n",
       "      <td>20100.858892</td>\n",
       "      <td>...</td>\n",
       "      <td>46437.067117</td>\n",
       "      <td>48061.537661</td>\n",
       "      <td>48401.427340</td>\n",
       "      <td>47001.555350</td>\n",
       "      <td>48373.878816</td>\n",
       "      <td>49790.665478</td>\n",
       "      <td>51450.122295</td>\n",
       "      <td>52787.026949</td>\n",
       "      <td>54598.550689</td>\n",
       "      <td>56469.008969</td>\n",
       "    </tr>\n",
       "    <tr>\n",
       "      <th>7</th>\n",
       "      <td>Sweden</td>\n",
       "      <td>SWE</td>\n",
       "      <td>16856.761086</td>\n",
       "      <td>15366.668591</td>\n",
       "      <td>13545.259119</td>\n",
       "      <td>12430.458931</td>\n",
       "      <td>12914.330682</td>\n",
       "      <td>13474.161346</td>\n",
       "      <td>17727.495334</td>\n",
       "      <td>21485.293869</td>\n",
       "      <td>...</td>\n",
       "      <td>46256.471601</td>\n",
       "      <td>53324.379372</td>\n",
       "      <td>55746.842381</td>\n",
       "      <td>46207.059203</td>\n",
       "      <td>52076.255913</td>\n",
       "      <td>59593.287112</td>\n",
       "      <td>57134.077068</td>\n",
       "      <td>60283.245223</td>\n",
       "      <td>59180.198978</td>\n",
       "      <td>50812.190860</td>\n",
       "    </tr>\n",
       "    <tr>\n",
       "      <th>13</th>\n",
       "      <td>Brazil</td>\n",
       "      <td>BRA</td>\n",
       "      <td>1939.790876</td>\n",
       "      <td>2124.962989</td>\n",
       "      <td>2218.890515</td>\n",
       "      <td>1565.297832</td>\n",
       "      <td>1573.967139</td>\n",
       "      <td>1643.196503</td>\n",
       "      <td>1936.016335</td>\n",
       "      <td>2081.665262</td>\n",
       "      <td>...</td>\n",
       "      <td>5860.145975</td>\n",
       "      <td>7313.557962</td>\n",
       "      <td>8787.610375</td>\n",
       "      <td>8553.380470</td>\n",
       "      <td>11224.154083</td>\n",
       "      <td>13167.472892</td>\n",
       "      <td>12291.466852</td>\n",
       "      <td>12216.904464</td>\n",
       "      <td>12026.617310</td>\n",
       "      <td>8757.206202</td>\n",
       "    </tr>\n",
       "    <tr>\n",
       "      <th>19</th>\n",
       "      <td>Germany</td>\n",
       "      <td>DEU</td>\n",
       "      <td>12092.381854</td>\n",
       "      <td>10170.446275</td>\n",
       "      <td>9876.228232</td>\n",
       "      <td>9827.022409</td>\n",
       "      <td>9277.932299</td>\n",
       "      <td>9393.891691</td>\n",
       "      <td>13410.897100</td>\n",
       "      <td>16614.410104</td>\n",
       "      <td>...</td>\n",
       "      <td>36447.872318</td>\n",
       "      <td>41814.819097</td>\n",
       "      <td>45699.198323</td>\n",
       "      <td>41732.707253</td>\n",
       "      <td>41785.556913</td>\n",
       "      <td>46810.327959</td>\n",
       "      <td>44065.248908</td>\n",
       "      <td>46530.911428</td>\n",
       "      <td>48042.563435</td>\n",
       "      <td>41323.921502</td>\n",
       "    </tr>\n",
       "    <tr>\n",
       "      <th>25</th>\n",
       "      <td>Switzerland</td>\n",
       "      <td>CHE</td>\n",
       "      <td>18832.196719</td>\n",
       "      <td>17153.401316</td>\n",
       "      <td>17478.655793</td>\n",
       "      <td>17341.994876</td>\n",
       "      <td>16499.146931</td>\n",
       "      <td>16655.337392</td>\n",
       "      <td>23751.449517</td>\n",
       "      <td>29558.895478</td>\n",
       "      <td>...</td>\n",
       "      <td>57579.501954</td>\n",
       "      <td>63555.237500</td>\n",
       "      <td>72487.845930</td>\n",
       "      <td>69927.468770</td>\n",
       "      <td>74605.721021</td>\n",
       "      <td>88415.628061</td>\n",
       "      <td>83538.230078</td>\n",
       "      <td>85112.464398</td>\n",
       "      <td>86605.563376</td>\n",
       "      <td>82016.021313</td>\n",
       "    </tr>\n",
       "  </tbody>\n",
       "</table>\n",
       "<p>5 rows × 38 columns</p>\n",
       "</div>"
      ],
      "text/plain": [
       "     Country Name Country Code          1980          1981          1982  \\\n",
       "1   United States          USA  12597.667510  13993.166744  14438.976276   \n",
       "7          Sweden          SWE  16856.761086  15366.668591  13545.259119   \n",
       "13         Brazil          BRA   1939.790876   2124.962989   2218.890515   \n",
       "19        Germany          DEU  12092.381854  10170.446275   9876.228232   \n",
       "25    Switzerland          CHE  18832.196719  17153.401316  17478.655793   \n",
       "\n",
       "            1983          1984          1985          1986          1987  ...  \\\n",
       "1   15561.426396  17134.286017  18269.422168  19115.052908  20100.858892  ...   \n",
       "7   12430.458931  12914.330682  13474.161346  17727.495334  21485.293869  ...   \n",
       "13   1565.297832   1573.967139   1643.196503   1936.016335   2081.665262  ...   \n",
       "19   9827.022409   9277.932299   9393.891691  13410.897100  16614.410104  ...   \n",
       "25  17341.994876  16499.146931  16655.337392  23751.449517  29558.895478  ...   \n",
       "\n",
       "            2006          2007          2008          2009          2010  \\\n",
       "1   46437.067117  48061.537661  48401.427340  47001.555350  48373.878816   \n",
       "7   46256.471601  53324.379372  55746.842381  46207.059203  52076.255913   \n",
       "13   5860.145975   7313.557962   8787.610375   8553.380470  11224.154083   \n",
       "19  36447.872318  41814.819097  45699.198323  41732.707253  41785.556913   \n",
       "25  57579.501954  63555.237500  72487.845930  69927.468770  74605.721021   \n",
       "\n",
       "            2011          2012          2013          2014          2015  \n",
       "1   49790.665478  51450.122295  52787.026949  54598.550689  56469.008969  \n",
       "7   59593.287112  57134.077068  60283.245223  59180.198978  50812.190860  \n",
       "13  13167.472892  12291.466852  12216.904464  12026.617310   8757.206202  \n",
       "19  46810.327959  44065.248908  46530.911428  48042.563435  41323.921502  \n",
       "25  88415.628061  83538.230078  85112.464398  86605.563376  82016.021313  \n",
       "\n",
       "[5 rows x 38 columns]"
      ]
     },
     "execution_count": 12,
     "metadata": {},
     "output_type": "execute_result"
    }
   ],
   "source": [
    "gdps = gdps.dropna(axis=1)\n",
    "gdps.head()"
   ]
  },
  {
   "cell_type": "code",
   "execution_count": 13,
   "metadata": {},
   "outputs": [
    {
     "data": {
      "text/plain": [
       "['Country Name',\n",
       " 'Country Code',\n",
       " '1980',\n",
       " '1981',\n",
       " '1982',\n",
       " '1983',\n",
       " '1984',\n",
       " '1985',\n",
       " '1986',\n",
       " '1987',\n",
       " '1988',\n",
       " '1989',\n",
       " '1990',\n",
       " '1991',\n",
       " '1992',\n",
       " '1993',\n",
       " '1994',\n",
       " '1995',\n",
       " '1996',\n",
       " '1997',\n",
       " '1998',\n",
       " '1999',\n",
       " '2000',\n",
       " '2001',\n",
       " '2002',\n",
       " '2003',\n",
       " '2004',\n",
       " '2005',\n",
       " '2006',\n",
       " '2007',\n",
       " '2008',\n",
       " '2009',\n",
       " '2010',\n",
       " '2011',\n",
       " '2012',\n",
       " '2013',\n",
       " '2014',\n",
       " '2015']"
      ]
     },
     "execution_count": 13,
     "metadata": {},
     "output_type": "execute_result"
    }
   ],
   "source": [
    "list(gdps[::-1])"
   ]
  },
  {
   "cell_type": "code",
   "execution_count": 14,
   "metadata": {},
   "outputs": [
    {
     "data": {
      "text/plain": [
       "(38, 6)"
      ]
     },
     "execution_count": 14,
     "metadata": {},
     "output_type": "execute_result"
    }
   ],
   "source": [
    "# gdps.set_index('Country Code', inplace=True)\n",
    "g = gdps.T\n",
    "g.shape"
   ]
  },
  {
   "cell_type": "code",
   "execution_count": 15,
   "metadata": {},
   "outputs": [],
   "source": [
    "# sns.pairplot(g)"
   ]
  },
  {
   "cell_type": "code",
   "execution_count": 16,
   "metadata": {},
   "outputs": [
    {
     "data": {
      "text/html": [
       "<div>\n",
       "<style scoped>\n",
       "    .dataframe tbody tr th:only-of-type {\n",
       "        vertical-align: middle;\n",
       "    }\n",
       "\n",
       "    .dataframe tbody tr th {\n",
       "        vertical-align: top;\n",
       "    }\n",
       "\n",
       "    .dataframe thead th {\n",
       "        text-align: right;\n",
       "    }\n",
       "</style>\n",
       "<table border=\"1\" class=\"dataframe\">\n",
       "  <thead>\n",
       "    <tr style=\"text-align: right;\">\n",
       "      <th></th>\n",
       "    </tr>\n",
       "  </thead>\n",
       "  <tbody>\n",
       "  </tbody>\n",
       "</table>\n",
       "</div>"
      ],
      "text/plain": [
       "Empty DataFrame\n",
       "Columns: []\n",
       "Index: []"
      ]
     },
     "execution_count": 16,
     "metadata": {},
     "output_type": "execute_result"
    }
   ],
   "source": [
    "g.corr(method='pearson')"
   ]
  },
  {
   "cell_type": "code",
   "execution_count": 17,
   "metadata": {},
   "outputs": [],
   "source": [
    "# mask = np.triu(np.ones_like(g.corr()))\n",
    "# sns.heatmap(g.corr(), mask=mask)"
   ]
  },
  {
   "cell_type": "code",
   "execution_count": 18,
   "metadata": {},
   "outputs": [
    {
     "name": "stdout",
     "output_type": "stream",
     "text": [
      "USA\n",
      "SWE\n",
      "AUS\n",
      "DEU\n",
      "CHE\n",
      "GBR\n"
     ]
    }
   ],
   "source": [
    "country_codes = ['USA', 'SWE', 'AUS', 'DEU', 'CHE', 'GBR']\n",
    "for country in country_codes:\n",
    "    print(country)"
   ]
  },
  {
   "cell_type": "code",
   "execution_count": 19,
   "metadata": {},
   "outputs": [
    {
     "data": {
      "text/plain": [
       "count        38.000000\n",
       "unique       38.000000\n",
       "top       49790.665478\n",
       "freq          1.000000\n",
       "Name: 1, dtype: float64"
      ]
     },
     "execution_count": 19,
     "metadata": {},
     "output_type": "execute_result"
    }
   ],
   "source": [
    "gdps.iloc[0].describe()"
   ]
  },
  {
   "cell_type": "code",
   "execution_count": 20,
   "metadata": {},
   "outputs": [],
   "source": [
    "# normal = stats.norm(gdps.iloc[0].mean(), gdps.iloc[0].std())"
   ]
  },
  {
   "cell_type": "code",
   "execution_count": 21,
   "metadata": {},
   "outputs": [],
   "source": [
    "# fig, ax = plt.subplots(figsize=(12,8))\n",
    "# x = np.linspace(0, gdps.iloc[0].max(), num=1000)\n",
    "# ax.plot(x, normal.pdf(x))"
   ]
  },
  {
   "cell_type": "code",
   "execution_count": null,
   "metadata": {},
   "outputs": [],
   "source": [
    "df = pd.read_csv('../data/processed/EdStatsAggregated.csv')\n",
    "df.head(1)"
   ]
  },
  {
   "cell_type": "code",
   "execution_count": null,
   "metadata": {},
   "outputs": [],
   "source": [
    "codes = ['SE.XPD.TOTL.GD.ZS',\n",
    "         'SE.XPD.PRIM.ZS',\n",
    "         'SE.PRM.ENRL.TC.ZS',\n",
    "         'SE.PRM.TCHR',\n",
    "         'SL.TLF.ADVN.ZS',\n",
    "         'NY.GDP.PCAP.CD']\n",
    "\n",
    "for code in codes:\n",
    "    df2 = df.copy()\n",
    "    df2 = df2[df2['Indicator Code'] == code]\n",
    "    df2 = df2.dropna(axis=1)"
   ]
  },
  {
   "cell_type": "code",
   "execution_count": null,
   "metadata": {},
   "outputs": [],
   "source": [
    "df2.head()"
   ]
  },
  {
   "cell_type": "code",
   "execution_count": null,
   "metadata": {},
   "outputs": [],
   "source": [
    "df2.corr()"
   ]
  },
  {
   "cell_type": "code",
   "execution_count": null,
   "metadata": {},
   "outputs": [],
   "source": [
    "mask = np.triu(np.ones_like(df2.corr()))\n",
    "sns.heatmap(df2.corr(), mask=mask)"
   ]
  },
  {
   "cell_type": "code",
   "execution_count": null,
   "metadata": {},
   "outputs": [],
   "source": []
  }
 ],
 "metadata": {
  "kernelspec": {
   "display_name": "Python 3.7.6 64-bit ('base': conda)",
   "language": "python",
   "name": "python37664bitbasecondad8c8c133197d48bdad1d8d5fa04a585d"
  },
  "language_info": {
   "codemirror_mode": {
    "name": "ipython",
    "version": 3
   },
   "file_extension": ".py",
   "mimetype": "text/x-python",
   "name": "python",
   "nbconvert_exporter": "python",
   "pygments_lexer": "ipython3",
   "version": "3.7.6"
  }
 },
 "nbformat": 4,
 "nbformat_minor": 4
}
